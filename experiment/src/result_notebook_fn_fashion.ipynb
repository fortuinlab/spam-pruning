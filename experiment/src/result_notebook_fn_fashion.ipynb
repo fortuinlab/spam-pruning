{
 "cells": [
  {
   "cell_type": "code",
   "execution_count": 12,
   "id": "fc8d9d51-3567-47d1-ae27-93bd53c3bf89",
   "metadata": {},
   "outputs": [],
   "source": [
    "from models import LeNet\n",
    "from models_structured import PrunedLeNet\n",
    "import numpy as np\n",
    "import torch \n",
    "import torchvision.transforms as transforms\n",
    "from torchvision import transforms, datasets\n",
    "from models import CancerNet_fc, LeNet, ResNet\n",
    "from datasets_custom import CancerDataset, RotatedMNIST\n",
    "from torch.nn.utils import prune\n",
    "import torchvision.transforms as transforms\n",
    "from laplace import Laplace \n",
    "from laplace import KronLaplace, DiagLaplace\n",
    "import torch\n",
    "import time \n",
    "from utils import evaluate_classification\n",
    "from marglikopt import marglik_optimization\n",
    "import os\n",
    "import wandb\n",
    "from utils import evaluate_classification"
   ]
  },
  {
   "cell_type": "code",
   "execution_count": 13,
   "id": "658d3b5f",
   "metadata": {},
   "outputs": [],
   "source": [
    "cfg = {}"
   ]
  },
  {
   "cell_type": "code",
   "execution_count": 14,
   "id": "2f6f8bad",
   "metadata": {},
   "outputs": [],
   "source": [
    "train_dataset = datasets.FashionMNIST(root='./data', train=True, download=True, transform=transforms.ToTensor())\n",
    "valid_dataset = datasets.FashionMNIST(root='./data', train=False, download=True, transform=transforms.ToTensor())\n",
    "train_loader = torch.utils.data.DataLoader(train_dataset, batch_size=64, shuffle=True)\n",
    "test_loader = torch.utils.data.DataLoader(valid_dataset, batch_size=64, shuffle=False)"
   ]
  },
  {
   "cell_type": "code",
   "execution_count": 62,
   "id": "4677711e-95f2-46bb-9e86-1a120e6edc51",
   "metadata": {},
   "outputs": [],
   "source": [
    "\n",
    "\n",
    "def config_Wb(runname):\n",
    "    unique_id = wandb.util.generate_id()\n",
    "    \n",
    "    wandb.init(id = unique_id, name=runname, project=self.config['wandb']['project'], entity=self.config['wandb']['entity'], config=to_log)\n",
    "        \n",
    "        \n",
    "def get_unpruned_filter_indices(conv_layer):\n",
    "    weights = conv_layer.weight.data.cpu().numpy()\n",
    "    unpruned = np.any(weights != 0, axis=(1, 2, 3))  \n",
    "    return np.nonzero(unpruned)[0]\n",
    "\n",
    "def copy_weights(structured_zero_model, new_model, unpruned_indices):\n",
    "    \n",
    "    orig_layer = getattr(structured_zero_model, 'conv1')\n",
    "    new_layer = getattr(new_model, 'conv1')\n",
    "    indices = unpruned_indices['conv1']\n",
    "    new_layer.weight.data = orig_layer.weight.data[indices, :, :, :]\n",
    "    if orig_layer.bias is not None:\n",
    "        new_layer.bias.data = orig_layer.bias.data[indices]\n",
    "\n",
    "    \n",
    "    for layer_name in ['conv2', 'conv3']:\n",
    "        orig_layer = getattr(structured_zero_model, layer_name)\n",
    "        new_layer = getattr(new_model, layer_name)\n",
    "        out_indices = unpruned_indices[layer_name]\n",
    "\n",
    "        \n",
    "        if layer_name == 'conv2':\n",
    "            in_indices = unpruned_indices['conv1']\n",
    "        elif layer_name == 'conv3':\n",
    "            in_indices = unpruned_indices['conv2']\n",
    "\n",
    "        \n",
    "        new_layer.weight.data = orig_layer.weight.data[out_indices, :, :, :][:, in_indices, :, :]\n",
    "        if orig_layer.bias is not None:\n",
    "            new_layer.bias.data = orig_layer.bias.data[out_indices]\n",
    "            \n",
    "    return new_model\n"
   ]
  },
  {
   "cell_type": "code",
   "execution_count": 63,
   "id": "f6d4242c-6eb6-4f03-8c38-037d46b5e518",
   "metadata": {},
   "outputs": [],
   "source": [
    "structured_zero_model = LeNet(n_out=10)\n",
    "dir_zeromod = '/nfs/xxxxxx/pattern/LeNet_FashionMnist_KronLaplace_diagonal_100_wp_struct'\n",
    "removed_strture = dir_zeromod + '/removed_structure_new'\n",
    "os.makedirs(removed_strture,exist_ok = True) \n",
    "models = [f for f in os.listdir(dir_zeromod) if f.endswith('.pt')] \n"
   ]
  },
  {
   "cell_type": "code",
   "execution_count": 64,
   "id": "6a7dffdf-dead-4f01-9f8c-aaba34a816d5",
   "metadata": {},
   "outputs": [
    {
     "data": {
      "text/plain": [
       "['LeNet_FashionMnist_KronLaplace_diagonal_100_wp_acc0_marg_2.3065383434295654_sparsity_99_maskaftereach.pt',\n",
       " 'LeNet_FashionMnist_KronLaplace_diagonal_100_wp_acc0_marg_0.41089460253715515_sparsity_60_maskaftereach.pt',\n",
       " 'LeNet_FashionMnist_KronLaplace_diagonal_100_wp_acc0_marg_0.42432984709739685_sparsity_70_maskaftereach.pt',\n",
       " 'LeNet_FashionMnist_KronLaplace_diagonal_100_wp_acc0_marg_0.39201590418815613_sparsity_60_maskaftereach.pt',\n",
       " 'LeNet_FashionMnist_KronLaplace_diagonal_100_wp_acc0_marg_0.49470704793930054_sparsity_85_maskaftereach.pt',\n",
       " 'LeNet_FashionMnist_KronLaplace_diagonal_100_wp_baseline_acc0.8801000118255615_marg_0.36452871561050415.pt',\n",
       " 'LeNet_FashionMnist_KronLaplace_diagonal_100_wp_acc0_marg_0.3754332363605499_sparsity_40_maskaftereach.pt',\n",
       " 'LeNet_FashionMnist_KronLaplace_diagonal_100_wp_acc0_marg_0.3852507770061493_sparsity_20_maskaftereach.pt',\n",
       " 'LeNet_FashionMnist_KronLaplace_diagonal_100_wp_acc0_marg_0.5393204092979431_sparsity_85_maskaftereach.pt',\n",
       " 'LeNet_FashionMnist_KronLaplace_diagonal_100_wp_acc0_marg_0.442190557718277_sparsity_75_maskaftereach.pt',\n",
       " 'LeNet_FashionMnist_KronLaplace_diagonal_100_wp_acc0_marg_0.4555523991584778_sparsity_80_maskaftereach.pt',\n",
       " 'LeNet_FashionMnist_KronLaplace_diagonal_100_wp_acc0_marg_0.41903236508369446_sparsity_70_maskaftereach.pt',\n",
       " 'LeNet_FashionMnist_KronLaplace_diagonal_100_wp_acc0_marg_1.0966707468032837_sparsity_90_maskaftereach.pt',\n",
       " 'LeNet_FashionMnist_KronLaplace_diagonal_100_wp_acc0_marg_0.4076460301876068_sparsity_20_maskaftereach.pt',\n",
       " 'LeNet_FashionMnist_KronLaplace_diagonal_100_wp_acc0_marg_2.3080990314483643_sparsity_99_maskaftereach.pt',\n",
       " 'LeNet_FashionMnist_KronLaplace_diagonal_100_wp_baseline_acc0.8630001544952393_marg_0.3875727355480194.pt',\n",
       " 'LeNet_FashionMnist_KronLaplace_diagonal_100_wp_acc0_marg_0.4622688889503479_sparsity_80_maskaftereach.pt',\n",
       " 'LeNet_FashionMnist_KronLaplace_diagonal_100_wp_acc0_marg_0.9368675947189331_sparsity_95_maskaftereach.pt',\n",
       " 'LeNet_FashionMnist_KronLaplace_diagonal_100_wp_acc0_marg_0.4485621452331543_sparsity_75_maskaftereach.pt',\n",
       " 'LeNet_FashionMnist_KronLaplace_diagonal_100_wp_acc0_marg_0.6342247724533081_sparsity_90_maskaftereach.pt',\n",
       " 'LeNet_FashionMnist_KronLaplace_diagonal_100_wp_acc0_marg_0.4051229953765869_sparsity_40_maskaftereach.pt',\n",
       " 'LeNet_FashionMnist_KronLaplace_diagonal_100_wp_acc0_marg_2.307816982269287_sparsity_95_maskaftereach.pt']"
      ]
     },
     "execution_count": 64,
     "metadata": {},
     "output_type": "execute_result"
    }
   ],
   "source": [
    "models"
   ]
  },
  {
   "cell_type": "code",
   "execution_count": 65,
   "id": "3550406c",
   "metadata": {},
   "outputs": [],
   "source": [
    "sparsity_models = {}\n",
    "for filename in models:\n",
    "    sparsity_level = filename.split('_')[-2]\n",
    "    if sparsity_level not in sparsity_models:\n",
    "        sparsity_models[sparsity_level] = filename\n",
    "\n",
    "# List of unique models, one for each sparsity level\n",
    "unique_models_per_sparsity = list(sparsity_models.values())"
   ]
  },
  {
   "cell_type": "code",
   "execution_count": 66,
   "id": "3f99d5f4-2b0b-4408-9678-21503153b406",
   "metadata": {},
   "outputs": [
    {
     "data": {
      "text/plain": [
       "{'99': 'LeNet_FashionMnist_KronLaplace_diagonal_100_wp_acc0_marg_2.3065383434295654_sparsity_99_maskaftereach.pt',\n",
       " '60': 'LeNet_FashionMnist_KronLaplace_diagonal_100_wp_acc0_marg_0.41089460253715515_sparsity_60_maskaftereach.pt',\n",
       " '70': 'LeNet_FashionMnist_KronLaplace_diagonal_100_wp_acc0_marg_0.42432984709739685_sparsity_70_maskaftereach.pt',\n",
       " '85': 'LeNet_FashionMnist_KronLaplace_diagonal_100_wp_acc0_marg_0.49470704793930054_sparsity_85_maskaftereach.pt',\n",
       " 'marg': 'LeNet_FashionMnist_KronLaplace_diagonal_100_wp_baseline_acc0.8801000118255615_marg_0.36452871561050415.pt',\n",
       " '40': 'LeNet_FashionMnist_KronLaplace_diagonal_100_wp_acc0_marg_0.3754332363605499_sparsity_40_maskaftereach.pt',\n",
       " '20': 'LeNet_FashionMnist_KronLaplace_diagonal_100_wp_acc0_marg_0.3852507770061493_sparsity_20_maskaftereach.pt',\n",
       " '75': 'LeNet_FashionMnist_KronLaplace_diagonal_100_wp_acc0_marg_0.442190557718277_sparsity_75_maskaftereach.pt',\n",
       " '80': 'LeNet_FashionMnist_KronLaplace_diagonal_100_wp_acc0_marg_0.4555523991584778_sparsity_80_maskaftereach.pt',\n",
       " '90': 'LeNet_FashionMnist_KronLaplace_diagonal_100_wp_acc0_marg_1.0966707468032837_sparsity_90_maskaftereach.pt',\n",
       " '95': 'LeNet_FashionMnist_KronLaplace_diagonal_100_wp_acc0_marg_0.9368675947189331_sparsity_95_maskaftereach.pt'}"
      ]
     },
     "execution_count": 66,
     "metadata": {},
     "output_type": "execute_result"
    }
   ],
   "source": [
    "sparsity_models"
   ]
  },
  {
   "cell_type": "code",
   "execution_count": 67,
   "id": "f2ae9651-59f0-4e86-b7b7-2deaf20dd418",
   "metadata": {},
   "outputs": [],
   "source": [
    "models = sparsity_models"
   ]
  },
  {
   "cell_type": "code",
   "execution_count": 68,
   "id": "a31cf47f-f47d-4d8a-a7b6-d63e953a22e9",
   "metadata": {},
   "outputs": [
    {
     "name": "stdout",
     "output_type": "stream",
     "text": [
      "11\n"
     ]
    }
   ],
   "source": [
    "print(len(models))"
   ]
  },
  {
   "cell_type": "code",
   "execution_count": 69,
   "id": "566b8dca-3b22-4f70-b242-1001c502a8ab",
   "metadata": {},
   "outputs": [
    {
     "name": "stdout",
     "output_type": "stream",
     "text": [
      "LeNet_FashionMnist_KronLaplace_diagonal_100_wp_acc0_marg_2.3065383434295654_sparsity_99_maskaftereach.pt\n",
      "LeNet_FashionMnist_KronLaplace_diagonal_100_wp_acc0_marg_0.41089460253715515_sparsity_60_maskaftereach.pt\n",
      "LeNet_FashionMnist_KronLaplace_diagonal_100_wp_acc0_marg_0.42432984709739685_sparsity_70_maskaftereach.pt\n",
      "LeNet_FashionMnist_KronLaplace_diagonal_100_wp_acc0_marg_0.49470704793930054_sparsity_85_maskaftereach.pt\n",
      "LeNet_FashionMnist_KronLaplace_diagonal_100_wp_baseline_acc0.8801000118255615_marg_0.36452871561050415.pt\n",
      "LeNet_FashionMnist_KronLaplace_diagonal_100_wp_acc0_marg_0.3754332363605499_sparsity_40_maskaftereach.pt\n",
      "LeNet_FashionMnist_KronLaplace_diagonal_100_wp_acc0_marg_0.3852507770061493_sparsity_20_maskaftereach.pt\n",
      "LeNet_FashionMnist_KronLaplace_diagonal_100_wp_acc0_marg_0.442190557718277_sparsity_75_maskaftereach.pt\n",
      "LeNet_FashionMnist_KronLaplace_diagonal_100_wp_acc0_marg_0.4555523991584778_sparsity_80_maskaftereach.pt\n",
      "LeNet_FashionMnist_KronLaplace_diagonal_100_wp_acc0_marg_1.0966707468032837_sparsity_90_maskaftereach.pt\n",
      "LeNet_FashionMnist_KronLaplace_diagonal_100_wp_acc0_marg_0.9368675947189331_sparsity_95_maskaftereach.pt\n"
     ]
    }
   ],
   "source": [
    "for i in models.values():\n",
    "    print(i)"
   ]
  },
  {
   "cell_type": "code",
   "execution_count": 70,
   "id": "70e663a2",
   "metadata": {},
   "outputs": [],
   "source": [
    "def run_timed_inference(model, input_shape, batch_sizes, device):\n",
    "    total_time = 0\n",
    "\n",
    "    # Loop through each batch size\n",
    "    run_batch = { 'batch_size': batch_sizes, 'time_per_image': [], 'batch_time': []}\n",
    "    for batch_size in batch_sizes:\n",
    "        # Create a dummy input tensor with the given input shape and batch size\n",
    "        dummy_input = torch.randn((batch_size, *input_shape)).to(device)\n",
    "\n",
    "        # Ensure synchronization before starting the timer\n",
    "        torch.cuda.synchronize()\n",
    "\n",
    "        start = time.time()\n",
    "\n",
    "        # Run the model inference\n",
    "        model(dummy_input)\n",
    "\n",
    "        # Synchronize again to ensure accurate timing\n",
    "        torch.cuda.synchronize()\n",
    "\n",
    "        end = time.time()\n",
    "        \n",
    "        run_batch['time_per_image'].append((end - start)*1000 / batch_size)\n",
    "        run_batch['batch_time'].append((end - start)*1000)\n",
    "        \n",
    "        \n",
    "        \n",
    "\n",
    "\n",
    "    \n",
    "\n",
    "    \n",
    "\n",
    "    return run_batch"
   ]
  },
  {
   "cell_type": "code",
   "execution_count": 71,
   "id": "b92ee4eb-6aa3-4555-a8e6-903d23eaa2b8",
   "metadata": {},
   "outputs": [],
   "source": [
    "def run_timed_inference(model, input_shape, batch_sizes, device, num_runs=10, warmup_runs=5):\n",
    "    run_batch = { 'batch_size': batch_sizes, 'time_per_image': [], 'batch_time': []}\n",
    "\n",
    "    for batch_size in batch_sizes:\n",
    "        dummy_input = torch.randn((batch_size, *input_shape)).to(device)\n",
    "\n",
    "        # Warm-up runs\n",
    "        for _ in range(warmup_runs):\n",
    "            model(dummy_input)\n",
    "\n",
    "        #torch.cuda.synchronize()  \n",
    "        torch.cuda.synchronize()\n",
    "        start = time.time()\n",
    "        \n",
    "        # Multiple runs for averaging\n",
    "        for _ in range(num_runs):\n",
    "            model(dummy_input)\n",
    "\n",
    "        #torch.cuda.synchronize()  # Synchronize after runs\n",
    "        torch.cuda.synchronize()\n",
    "        end = time.time()\n",
    "\n",
    "        total_time = (end - start) * 1000 / num_runs  # Convert to milliseconds\n",
    "        run_batch['time_per_image'].append(total_time / batch_size)\n",
    "        run_batch['batch_time'].append(total_time)\n",
    "\n",
    "    return run_batch"
   ]
  },
  {
   "cell_type": "code",
   "execution_count": 72,
   "id": "3f42358f",
   "metadata": {},
   "outputs": [],
   "source": [
    "device = torch.device('cuda:0' if torch.cuda.is_available() else 'cpu')"
   ]
  },
  {
   "cell_type": "code",
   "execution_count": 73,
   "id": "bc9cda50-77e6-44b5-b56e-80ff6e4fb126",
   "metadata": {},
   "outputs": [],
   "source": [
    "device = torch.device('cuda:0')"
   ]
  },
  {
   "cell_type": "code",
   "execution_count": 74,
   "id": "1120f69e-b103-4df1-b732-7c1c6db1dffe",
   "metadata": {},
   "outputs": [],
   "source": [
    "sparsity_values = [] \n",
    "batch_time = []\n",
    "batchsizes = [4,8,16,32,64,128,256,512]\n",
    "model_size = []\n",
    "val_ac_lst = []\n",
    "margliks_lst = []"
   ]
  },
  {
   "cell_type": "code",
   "execution_count": 75,
   "id": "bfb86487-2e9d-46f2-a4b2-2ac4842e79ce",
   "metadata": {},
   "outputs": [],
   "source": [
    "splits = models[\"99\"].split(\"_\")\n",
    "run_name = \"_\".join(splits[:4]) + \"_compressed_meta\""
   ]
  },
  {
   "cell_type": "code",
   "execution_count": 76,
   "id": "99ddb8e5-0d17-4e33-9051-235fbe11ce73",
   "metadata": {},
   "outputs": [
    {
     "data": {
      "text/plain": [
       "'LeNet_FashionMnist_KronLaplace_diagonal_compressed_meta'"
      ]
     },
     "execution_count": 76,
     "metadata": {},
     "output_type": "execute_result"
    }
   ],
   "source": [
    "run_name"
   ]
  },
  {
   "cell_type": "code",
   "execution_count": 77,
   "id": "879bc39a-26f0-4b69-bb5a-567745ce765c",
   "metadata": {},
   "outputs": [
    {
     "data": {
      "text/html": [
       "Finishing last run (ID:90r0woid) before initializing another..."
      ],
      "text/plain": [
       "<IPython.core.display.HTML object>"
      ]
     },
     "metadata": {},
     "output_type": "display_data"
    },
    {
     "data": {
      "text/html": [
       "Waiting for W&B process to finish... <strong style=\"color:green\">(success).</strong>"
      ],
      "text/plain": [
       "<IPython.core.display.HTML object>"
      ]
     },
     "metadata": {},
     "output_type": "display_data"
    },
    {
     "data": {
      "text/html": [
       " View run <strong style=\"color:#cdcd00\">LeNet_FashionMnist_KronLaplace_diagonal_compressed_meta</strong> at: <a href='https://wandb.ai/xxxxxx/BNN_Sparse/runs/90r0woid' target=\"_blank\">https://wandb.ai/xxxxxx/BNN_Sparse/runs/90r0woid</a><br/>Synced 6 W&B file(s), 0 media file(s), 0 artifact file(s) and 0 other file(s)"
      ],
      "text/plain": [
       "<IPython.core.display.HTML object>"
      ]
     },
     "metadata": {},
     "output_type": "display_data"
    },
    {
     "data": {
      "text/html": [
       "Find logs at: <code>./wandb/run-20231129_201316-90r0woid/logs</code>"
      ],
      "text/plain": [
       "<IPython.core.display.HTML object>"
      ]
     },
     "metadata": {},
     "output_type": "display_data"
    },
    {
     "data": {
      "text/html": [
       "Successfully finished last run (ID:90r0woid). Initializing new run:<br/>"
      ],
      "text/plain": [
       "<IPython.core.display.HTML object>"
      ]
     },
     "metadata": {},
     "output_type": "display_data"
    },
    {
     "data": {
      "text/html": [
       "wandb version 0.16.0 is available!  To upgrade, please run:\n",
       " $ pip install wandb --upgrade"
      ],
      "text/plain": [
       "<IPython.core.display.HTML object>"
      ]
     },
     "metadata": {},
     "output_type": "display_data"
    },
    {
     "data": {
      "text/html": [
       "Tracking run with wandb version 0.15.2"
      ],
      "text/plain": [
       "<IPython.core.display.HTML object>"
      ]
     },
     "metadata": {},
     "output_type": "display_data"
    },
    {
     "data": {
      "text/html": [
       "Run data is saved locally in <code>/nfs/homedirs/xxxxx/BNNS/experiment/src/wandb/run-20231129_201731-m7wpf56c</code>"
      ],
      "text/plain": [
       "<IPython.core.display.HTML object>"
      ]
     },
     "metadata": {},
     "output_type": "display_data"
    },
    {
     "data": {
      "text/html": [
       "Syncing run <strong><a href='https://wandb.ai/xxxxxx/BNN_Sparse/runs/m7wpf56c' target=\"_blank\">LeNet_FashionMnist_KronLaplace_diagonal_compressed_meta</a></strong> to <a href='https://wandb.ai/xxxxxx/BNN_Sparse' target=\"_blank\">Weights & Biases</a> (<a href='https://wandb.me/run' target=\"_blank\">docs</a>)<br/>"
      ],
      "text/plain": [
       "<IPython.core.display.HTML object>"
      ]
     },
     "metadata": {},
     "output_type": "display_data"
    },
    {
     "data": {
      "text/html": [
       " View project at <a href='https://wandb.ai/xxxxxx/BNN_Sparse' target=\"_blank\">https://wandb.ai/xxxxxx/BNN_Sparse</a>"
      ],
      "text/plain": [
       "<IPython.core.display.HTML object>"
      ]
     },
     "metadata": {},
     "output_type": "display_data"
    },
    {
     "data": {
      "text/html": [
       " View run at <a href='https://wandb.ai/xxxxxx/BNN_Sparse/runs/m7wpf56c' target=\"_blank\">https://wandb.ai/xxxxxx/BNN_Sparse/runs/m7wpf56c</a>"
      ],
      "text/plain": [
       "<IPython.core.display.HTML object>"
      ]
     },
     "metadata": {},
     "output_type": "display_data"
    },
    {
     "data": {
      "text/html": [
       "<button onClick=\"this.nextSibling.style.display='block';this.style.display='none';\">Display W&B run</button><iframe src='https://wandb.ai/xxxxxx/BNN_Sparse/runs/m7wpf56c?jupyter=true' style='border:none;width:100%;height:420px;display:none;'></iframe>"
      ],
      "text/plain": [
       "<wandb.sdk.wandb_run.Run at 0x7fed8b3651b0>"
      ]
     },
     "execution_count": 77,
     "metadata": {},
     "output_type": "execute_result"
    }
   ],
   "source": [
    "unique_id = wandb.util.generate_id()\n",
    "wandb.init(id = unique_id, name=run_name, project=\"BNN_Sparse\", entity=\"xxxxxx\")"
   ]
  },
  {
   "cell_type": "code",
   "execution_count": 78,
   "id": "2c9f4437-b315-45d2-a613-1872f68788ed",
   "metadata": {},
   "outputs": [],
   "source": [
    "wandb_log = True\n",
    "train = True"
   ]
  },
  {
   "cell_type": "code",
   "execution_count": 79,
   "id": "98ad3c38-825b-43cb-94f4-644e06cc053c",
   "metadata": {},
   "outputs": [
    {
     "data": {
      "text/plain": [
       "{'99': 'LeNet_FashionMnist_KronLaplace_diagonal_100_wp_acc0_marg_2.3065383434295654_sparsity_99_maskaftereach.pt',\n",
       " '60': 'LeNet_FashionMnist_KronLaplace_diagonal_100_wp_acc0_marg_0.41089460253715515_sparsity_60_maskaftereach.pt',\n",
       " '70': 'LeNet_FashionMnist_KronLaplace_diagonal_100_wp_acc0_marg_0.42432984709739685_sparsity_70_maskaftereach.pt',\n",
       " '85': 'LeNet_FashionMnist_KronLaplace_diagonal_100_wp_acc0_marg_0.49470704793930054_sparsity_85_maskaftereach.pt',\n",
       " 'marg': 'LeNet_FashionMnist_KronLaplace_diagonal_100_wp_baseline_acc0.8801000118255615_marg_0.36452871561050415.pt',\n",
       " '40': 'LeNet_FashionMnist_KronLaplace_diagonal_100_wp_acc0_marg_0.3754332363605499_sparsity_40_maskaftereach.pt',\n",
       " '20': 'LeNet_FashionMnist_KronLaplace_diagonal_100_wp_acc0_marg_0.3852507770061493_sparsity_20_maskaftereach.pt',\n",
       " '75': 'LeNet_FashionMnist_KronLaplace_diagonal_100_wp_acc0_marg_0.442190557718277_sparsity_75_maskaftereach.pt',\n",
       " '80': 'LeNet_FashionMnist_KronLaplace_diagonal_100_wp_acc0_marg_0.4555523991584778_sparsity_80_maskaftereach.pt',\n",
       " '90': 'LeNet_FashionMnist_KronLaplace_diagonal_100_wp_acc0_marg_1.0966707468032837_sparsity_90_maskaftereach.pt',\n",
       " '95': 'LeNet_FashionMnist_KronLaplace_diagonal_100_wp_acc0_marg_0.9368675947189331_sparsity_95_maskaftereach.pt'}"
      ]
     },
     "execution_count": 79,
     "metadata": {},
     "output_type": "execute_result"
    }
   ],
   "source": [
    "models"
   ]
  },
  {
   "cell_type": "code",
   "execution_count": 80,
   "id": "c4510e00",
   "metadata": {},
   "outputs": [
    {
     "name": "stdout",
     "output_type": "stream",
     "text": [
      "Initial sparsity: 0.1529\n",
      "Sparsity: 99\n",
      "{'batch_size': [4, 8, 16, 32, 64, 128, 256, 512], 'time_per_image': [0.08342862129211426, 0.045499205589294434, 0.026367604732513428, 0.01709163188934326, 0.0129014253616333, 0.010050088167190552, 0.00889590010046959, 0.008184509351849556], 'batch_time': [0.33371448516845703, 0.36399364471435547, 0.42188167572021484, 0.5469322204589844, 0.8256912231445312, 1.2864112854003906, 2.277350425720215, 4.190468788146973]}\n",
      "-----------\n",
      "Initial sparsity: 0.6441\n",
      "Sparsity: 60\n",
      "{'batch_size': [4, 8, 16, 32, 64, 128, 256, 512], 'time_per_image': [0.08976459503173828, 0.0514984130859375, 0.03221780061721802, 0.022855401039123535, 0.017659366130828857, 0.015138648450374603, 0.013836007565259933, 0.013105291873216629], 'batch_time': [0.3590583801269531, 0.4119873046875, 0.5154848098754883, 0.7313728332519531, 1.1301994323730469, 1.9377470016479492, 3.542017936706543, 6.709909439086914]}\n",
      "-----------\n",
      "Initial sparsity: 0.5528\n",
      "Sparsity: 70\n",
      "{'batch_size': [4, 8, 16, 32, 64, 128, 256, 512], 'time_per_image': [0.08726716041564941, 0.04888176918029785, 0.03061443567276001, 0.020609050989151, 0.015669316053390503, 0.013127736747264862, 0.01185387372970581, 0.011134566739201546], 'batch_time': [0.34906864166259766, 0.3910541534423828, 0.48983097076416016, 0.659489631652832, 1.0028362274169922, 1.6803503036499023, 3.0345916748046875, 5.700898170471191]}\n",
      "-----------\n",
      "Initial sparsity: 0.3922\n",
      "Sparsity: 85\n",
      "{'batch_size': [4, 8, 16, 32, 64, 128, 256, 512], 'time_per_image': [0.0849604606628418, 0.04636049270629883, 0.027576088905334473, 0.01812651753425598, 0.01330748200416565, 0.010847672820091248, 0.009524915367364883, 0.008842488750815392], 'batch_time': [0.3398418426513672, 0.3708839416503906, 0.44121742248535156, 0.5800485610961914, 0.8516788482666016, 1.3885021209716797, 2.43837833404541, 4.5273542404174805]}\n",
      "-----------\n",
      "BASELINEEEEEE\n",
      "Accuracy of the network 88 %\n",
      "Model: LeNet(\n",
      "  (conv1): Conv2d(1, 6, kernel_size=(5, 5), stride=(1, 1))\n",
      "  (act1): ReLU()\n",
      "  (pool1): MaxPool2d(kernel_size=2, stride=2, padding=0, dilation=1, ceil_mode=False)\n",
      "  (conv2): Conv2d(6, 16, kernel_size=(3, 3), stride=(1, 1))\n",
      "  (act2): ReLU()\n",
      "  (pool2): MaxPool2d(kernel_size=2, stride=2, padding=0, dilation=1, ceil_mode=False)\n",
      "  (conv3): Conv2d(16, 120, kernel_size=(5, 5), stride=(1, 1))\n",
      "  (flatten): Flatten(start_dim=1, end_dim=-1)\n",
      "  (act3): ReLU()\n",
      "  (lin1): Linear(in_features=120, out_features=84, bias=True)\n",
      "  (act4): ReLU()\n",
      "  (linout): Linear(in_features=84, out_features=10, bias=True)\n",
      "), Sparsity: 0, Val Acc: 88.01\n",
      "{'batch_size': [4, 8, 16, 32, 64, 128, 256, 512], 'time_per_image': [0.10675787925720215, 0.06484687328338623, 0.04379004240036011, 0.03323182463645935, 0.027696043252944946, 0.024861469864845276, 0.024454109370708466, 0.023202551528811455], 'batch_time': [0.4270315170288086, 0.5187749862670898, 0.7006406784057617, 1.0634183883666992, 1.7725467681884766, 3.1822681427001953, 6.260251998901367, 11.879706382751465]}\n",
      "-----------\n",
      "Initial sparsity: 0.7302\n",
      "Sparsity: 40\n",
      "{'batch_size': [4, 8, 16, 32, 64, 128, 256, 512], 'time_per_image': [0.10023117065429688, 0.05813241004943848, 0.037701427936553955, 0.027094781398773193, 0.021467730402946472, 0.018637068569660187, 0.017321668565273285, 0.016472535207867622], 'batch_time': [0.4009246826171875, 0.4650592803955078, 0.6032228469848633, 0.8670330047607422, 1.3739347457885742, 2.385544776916504, 4.434347152709961, 8.433938026428223]}\n",
      "-----------\n",
      "Initial sparsity: 0.7829\n",
      "Sparsity: 20\n",
      "{'batch_size': [4, 8, 16, 32, 64, 128, 256, 512], 'time_per_image': [0.10492205619812012, 0.06186068058013916, 0.04171878099441528, 0.029599666595458984, 0.023888051509857178, 0.020972639322280884, 0.01954641193151474, 0.019092997536063194], 'batch_time': [0.41968822479248047, 0.4948854446411133, 0.6675004959106445, 0.9471893310546875, 1.5288352966308594, 2.684497833251953, 5.003881454467773, 9.775614738464355]}\n",
      "-----------\n",
      "Initial sparsity: 0.4918\n",
      "Sparsity: 75\n",
      "{'batch_size': [4, 8, 16, 32, 64, 128, 256, 512], 'time_per_image': [0.08649826049804688, 0.04874467849731445, 0.02969503402709961, 0.020113587379455566, 0.015212595462799072, 0.012654624879360199, 0.011351332068443298, 0.01067277044057846], 'batch_time': [0.3459930419921875, 0.3899574279785156, 0.47512054443359375, 0.6436347961425781, 0.9736061096191406, 1.6197919845581055, 2.9059410095214844, 5.464458465576172]}\n",
      "-----------\n",
      "Initial sparsity: 0.4809\n",
      "Sparsity: 80\n",
      "{'batch_size': [4, 8, 16, 32, 64, 128, 256, 512], 'time_per_image': [0.0865936279296875, 0.04867911338806152, 0.02950131893157959, 0.020048022270202637, 0.015161558985710144, 0.012602657079696655, 0.011410936713218689, 0.010666623711585999], 'batch_time': [0.34637451171875, 0.3894329071044922, 0.47202110290527344, 0.6415367126464844, 0.9703397750854492, 1.6131401062011719, 2.9211997985839844, 5.461311340332031]}\n",
      "-----------\n",
      "Initial sparsity: 0.2892\n",
      "Sparsity: 90\n",
      "{'batch_size': [4, 8, 16, 32, 64, 128, 256, 512], 'time_per_image': [0.08462071418762207, 0.046190619468688965, 0.02714991569519043, 0.017547607421875, 0.012806430459022522, 0.010377168655395508, 0.009076017886400223, 0.008440203964710236], 'batch_time': [0.3384828567504883, 0.3695249557495117, 0.4343986511230469, 0.5615234375, 0.8196115493774414, 1.328277587890625, 2.323460578918457, 4.321384429931641]}\n",
      "-----------\n",
      "Initial sparsity: 0.1755\n",
      "Sparsity: 95\n",
      "{'batch_size': [4, 8, 16, 32, 64, 128, 256, 512], 'time_per_image': [0.08400678634643555, 0.04636049270629883, 0.030720233917236328, 0.017433613538742065, 0.012521445751190186, 0.01010894775390625, 0.00880807638168335, 0.008222972974181175], 'batch_time': [0.3360271453857422, 0.3708839416503906, 0.49152374267578125, 0.5578756332397461, 0.8013725280761719, 1.2939453125, 2.2548675537109375, 4.210162162780762]}\n",
      "-----------\n"
     ]
    }
   ],
   "source": [
    "\n",
    "for sp, model_name in models.items():\n",
    "    if \"baseline\" in model_name: \n",
    "        print(\"BASELINEEEEEE\")\n",
    "        model_sparsity = 0\n",
    "        model = LeNet(n_out=10)\n",
    "        model.load_state_dict(torch.load(os.path.join(dir_zeromod, model_name)))\n",
    "        device= \"cpu\"\n",
    "        model.to(device)\n",
    "        val_acc = evaluate_classification(model, test_loader)\n",
    "        run_batch = run_timed_inference(model, test_loader.dataset[0][0].shape, batchsizes, device)\n",
    "        print(f\"Model: {model}, Sparsity: {model_sparsity}, Val Acc: {val_acc}\")\n",
    "        print(run_batch)\n",
    "        print(\"-----------\")\n",
    "        sparsity_values.append(int(model_sparsity))\n",
    "        batch_time.append(run_batch[\"batch_time\"])\n",
    "        mod_size= os.path.getsize(os.path.join(dir_zeromod, model_name))\n",
    "        model_size.append(mod_size)\n",
    "        val_ac_lst.append(val_acc)\n",
    "        model_iterm = model_name.replace(\".pt\", \"\")\n",
    "        marg = float(model_iterm.split(\"_\")[-1])\n",
    "        if wandb_log:\n",
    "            wandb.log({\"sparsity\": model_sparsity, \"val_acc\": val_acc,\n",
    "                        \"run_batch\": run_batch, \"model_size\": mod_size,\"marglik\":marg})\n",
    "        \n",
    "        \n",
    "\n",
    "        \n",
    "        \n",
    "        \n",
    "    else:\n",
    "        device=\"cuda:0\"\n",
    "        model_sparsity = int(model_name.split('_')[-2])\n",
    "        structured_zero_model = LeNet(n_out=10)\n",
    "        structured_zero_model.load_state_dict(torch.load(os.path.join(dir_zeromod, model_name)))\n",
    "        structured_zero_model.to(device)\n",
    "        #val_acc = evaluate_classification(model, test_loader)\n",
    "        #run_batch = run_timed_inference(structured_zero_model, test_loader.dataset[0][0].shape, [1,2,4,8], device)\n",
    "        #print(f\"Model: {structured_zero_model}, Sparsity: {model_sparsity}, Val Acc: {val_acc}\")\n",
    "        #print(run_batch)\n",
    "        #print(\"DELLLLLLLLLLLLLLLLLLETEEEEEEEEEEEEEEEEEEEEEEED STRUUUUUUUUUUUUUUUUUUUUUUCTUREEEEEEEEEEEEEEEEEEEEEEEEEEEE\")\n",
    "        \n",
    "        unpruned_indices = {\n",
    "                'conv1': get_unpruned_filter_indices(structured_zero_model.conv1),\n",
    "                'conv2': get_unpruned_filter_indices(structured_zero_model.conv2),\n",
    "                'conv3': get_unpruned_filter_indices(structured_zero_model.conv3)\n",
    "            }\n",
    "\n",
    "        new_model = PrunedLeNet(\n",
    "            n_filters_conv1=len(unpruned_indices['conv1']),\n",
    "            n_filters_conv2=len(unpruned_indices['conv2']),\n",
    "            n_filters_conv3=len(unpruned_indices['conv3'])\n",
    "        )\n",
    "\n",
    "        copy_weights(structured_zero_model, new_model, unpruned_indices)\n",
    "        new_model.to(device)\n",
    "        #criterion = torch.nn.CrossEntropyLoss()\n",
    "        #optimizer = torch.optim.Adam(new_model.parameters(), lr=0.001)\n",
    "        if train == True:\n",
    "            la, new_model, margliks, val_perf = marglik_optimization(           \n",
    "                                        model=new_model, train_loader=train_loader,\n",
    "                                        valid_loader= test_loader,likelihood=\"classification\",\n",
    "                                        lr=0.001,\n",
    "                                        n_epochs=5,\n",
    "                                        laplace=KronLaplace,\n",
    "                                        prior_structure=\"diagonal\",\n",
    "                                        log_wandb = False,\n",
    "                                )\n",
    "            val_ac_lst.append(val_perf)\n",
    "            margliks_lst.append(margliks)\n",
    "\n",
    "\n",
    "        device = \"cpu\"\n",
    "        new_model.to(device)\n",
    "        run_batch = run_timed_inference(new_model, test_loader.dataset[0][0].shape, batchsizes, device)\n",
    "        #print(f\"Model: {new_model}, Sparsity: {model_sparsity}, Val Acc: {val_acc}\")\n",
    "        \n",
    "        print(f\"Sparsity: {model_sparsity}\")\n",
    "        print(run_batch)\n",
    "        print(\"-----------\")\n",
    "        sparsity_values.append(int(model_sparsity))\n",
    "        batch_time.append(run_batch[\"batch_time\"])\n",
    "        \n",
    "        \n",
    "        # save the model and read its size overwriting the old one if it exists \n",
    "        splits = model_name.split(\"_\")\n",
    "        \n",
    "        model_name_new = \"_\".join(splits[:4]) + f\"reducued_{model_sparsity}_acc_{val_perf*100}_marg_{margliks[-1]}.pt\"\n",
    "        model_metadata = {\n",
    "            'n_filters_conv1': len(unpruned_indices['conv1']),\n",
    "            'n_filters_conv2': len(unpruned_indices['conv2']),\n",
    "            'n_filters_conv3': len(unpruned_indices['conv3'])\n",
    "        }\n",
    "        model_to_save = {\n",
    "            'state_dict': new_model.state_dict(),\n",
    "            'metadata': model_metadata\n",
    "        }\n",
    "        torch.save(model_to_save, os.path.join(removed_strture, model_name_new))\n",
    "        mod_size= os.path.getsize(os.path.join(removed_strture, model_name_new))\n",
    "        model_size.append(mod_size)\n",
    "        if wandb_log:\n",
    "            wandb.log({\"sparsity\": model_sparsity, \"val_acc\": val_perf*100,\n",
    "                        \"run_batch\": run_batch, \"model_size\": mod_size,\"marglik\":margliks[-1]})\n"
   ]
  },
  {
   "cell_type": "code",
   "execution_count": 81,
   "id": "dc4ee4ba-9f1e-4b45-aa9e-be036f1852b6",
   "metadata": {},
   "outputs": [
    {
     "data": {
      "text/html": [
       "Waiting for W&B process to finish... <strong style=\"color:green\">(success).</strong>"
      ],
      "text/plain": [
       "<IPython.core.display.HTML object>"
      ]
     },
     "metadata": {},
     "output_type": "display_data"
    },
    {
     "data": {
      "text/html": [
       "<style>\n",
       "    table.wandb td:nth-child(1) { padding: 0 10px; text-align: left ; width: auto;} td:nth-child(2) {text-align: left ; width: 100%}\n",
       "    .wandb-row { display: flex; flex-direction: row; flex-wrap: wrap; justify-content: flex-start; width: 100% }\n",
       "    .wandb-col { display: flex; flex-direction: column; flex-basis: 100%; flex: 1; padding: 10px; }\n",
       "    </style>\n",
       "<div class=\"wandb-row\"><div class=\"wandb-col\"><h3>Run history:</h3><br/><table class=\"wandb\"><tr><td>marglik</td><td>█▂▂▃▁▂▂▂▂▃▅</td></tr><tr><td>model_size</td><td>▁▂▂▁█▄▆▂▂▁▁</td></tr><tr><td>sparsity</td><td>█▅▆▇▁▄▂▆▇▇█</td></tr><tr><td>val_acc</td><td>▁▇▇▆███▇▇▆▄</td></tr></table><br/></div><div class=\"wandb-col\"><h3>Run summary:</h3><br/><table class=\"wandb\"><tr><td>marglik</td><td>0.62553</td></tr><tr><td>model_size</td><td>11763</td></tr><tr><td>sparsity</td><td>95</td></tr><tr><td>val_acc</td><td>77.86998</td></tr></table><br/></div></div>"
      ],
      "text/plain": [
       "<IPython.core.display.HTML object>"
      ]
     },
     "metadata": {},
     "output_type": "display_data"
    },
    {
     "data": {
      "text/html": [
       " View run <strong style=\"color:#cdcd00\">LeNet_FashionMnist_KronLaplace_diagonal_compressed_meta</strong> at: <a href='https://wandb.ai/xxxxxx/BNN_Sparse/runs/m7wpf56c' target=\"_blank\">https://wandb.ai/xxxxxx/BNN_Sparse/runs/m7wpf56c</a><br/>Synced 6 W&B file(s), 0 media file(s), 0 artifact file(s) and 0 other file(s)"
      ],
      "text/plain": [
       "<IPython.core.display.HTML object>"
      ]
     },
     "metadata": {},
     "output_type": "display_data"
    },
    {
     "data": {
      "text/html": [
       "Find logs at: <code>./wandb/run-20231129_201731-m7wpf56c/logs</code>"
      ],
      "text/plain": [
       "<IPython.core.display.HTML object>"
      ]
     },
     "metadata": {},
     "output_type": "display_data"
    }
   ],
   "source": [
    "wandb.finish()"
   ]
  },
  {
   "cell_type": "code",
   "execution_count": 82,
   "id": "e32ef25d-e3fa-4fc8-a3dd-d7f92ea15115",
   "metadata": {},
   "outputs": [],
   "source": [
    "flattened_data = []\n",
    "for i, sparsity in enumerate(sparsity_values):\n",
    "    for j, batch_size in enumerate(batchsizes):\n",
    "        flattened_data.append({\n",
    "            'Sparsity': sparsity,\n",
    "            'Batch Size': batch_size,\n",
    "            'Batch Time': batch_time[i][j]\n",
    "        })\n",
    "\n"
   ]
  },
  {
   "cell_type": "code",
   "execution_count": 88,
   "id": "f26f6808-396f-43e6-9cca-2fca198cccff",
   "metadata": {},
   "outputs": [],
   "source": [
    "import pandas as pd\n",
    "from matplotlib import pyplot as plt"
   ]
  },
  {
   "cell_type": "code",
   "execution_count": 85,
   "id": "4eee2d71-0484-4185-a395-5c4490ae753b",
   "metadata": {},
   "outputs": [],
   "source": [
    "# Creating a DataFrame from the flattened data\n",
    "df_flattened = pd.DataFrame(flattened_data)\n",
    "\n"
   ]
  },
  {
   "cell_type": "code",
   "execution_count": 118,
   "id": "f5b99448-2fdf-48b8-916d-93f35281c32a",
   "metadata": {},
   "outputs": [
    {
     "data": {
      "text/plain": [
       "[0.6823999285697937,\n",
       " 0.8608002662658691,\n",
       " 0.8520001173019409,\n",
       " 0.8340001106262207,\n",
       " 88.01,\n",
       " 0.8769999146461487,\n",
       " 0.8769002556800842,\n",
       " 0.8507999181747437,\n",
       " 0.843000054359436,\n",
       " 0.8100001215934753,\n",
       " 0.7786997556686401]"
      ]
     },
     "execution_count": 118,
     "metadata": {},
     "output_type": "execute_result"
    }
   ],
   "source": [
    "val_ac_lst"
   ]
  },
  {
   "cell_type": "code",
   "execution_count": 119,
   "id": "22dbc6b0-fc1e-40c4-9988-f2b02d140358",
   "metadata": {},
   "outputs": [],
   "source": [
    "val_acc_lst_scaled = [x if x == 88.01 else x * 100 for x in val_ac_lst]"
   ]
  },
  {
   "cell_type": "code",
   "execution_count": 128,
   "id": "30fc9393-c24f-499b-9471-6b2cd85592dc",
   "metadata": {},
   "outputs": [],
   "source": [
    "df = pd.DataFrame({\n",
    "    'Model Size': model_size,\n",
    "    \"Val_Acc\":val_acc_lst_scaled,\n",
    "    'Sparsity': sparsity_values\n",
    "})\n",
    "\n",
    "# Sorting the DataFrame by 'Sparsity' values\n",
    "df_sorted = df.sort_values(by='Sparsity')"
   ]
  },
  {
   "cell_type": "code",
   "execution_count": 135,
   "id": "fdeeec27-a3b5-42d5-9b03-6413eb883c20",
   "metadata": {},
   "outputs": [
    {
     "data": {
      "image/png": "[encoded data removed]",
      "text/plain": [
       "<Figure size 1200x800 with 2 Axes>"
      ]
     },
     "metadata": {},
     "output_type": "display_data"
    }
   ],
   "source": [
    "df_flattened = pd.DataFrame(flattened_data)\n",
    "df_sorted_flt = df_flattened.sort_values(by='Sparsity')\n",
    "\n",
    "# Plotting with the sorted sparsity values\n",
    "plt.figure(figsize=(12, 8))\n",
    "ax1 = plt.gca()\n",
    "for batch_size in batchsizes:\n",
    "    batch_data = df_sorted_flt[df_sorted_flt['Batch Size'] == batch_size]\n",
    "    ax1.plot(batch_data['Sparsity'], batch_data['Batch Time'], marker='o', label=f'Batch Size: {batch_size}')\n",
    "\n",
    "ax1.set_xlabel('Structure pruned (%)')\n",
    "ax1.set_ylabel('Batch Inference Time (ms)')\n",
    "ax1.legend(title='Batch Size')\n",
    "ax1.grid(True)\n",
    "\n",
    "ax2 = ax1.twinx()\n",
    "\n",
    "ax2.plot(df_sorted['Sparsity'], df_sorted['Val_Acc'], color='red', marker='x', label='Accuracy')\n",
    "ax2.set_ylabel('Accuracy (%)', color='red')\n",
    "for label in ax2.get_yticklabels():\n",
    "    label.set_color('red')\n",
    "# Add legend to the secondary axis\n",
    "#ax2.legend(loc='upper right')\n",
    "ax2.legend(loc='upper left')\n",
    "\n",
    "plt.savefig(\"lenet_fashionmnist_sp_batchspeed_cpu_acc.pdf\")\n",
    "plt.show()"
   ]
  },
  {
   "cell_type": "code",
   "execution_count": 136,
   "id": "64923ede-3329-4ab8-ae22-fa16b4f6431b",
   "metadata": {},
   "outputs": [
    {
     "data": {
      "text/plain": [
       "[10035,\n",
       " 60147,\n",
       " 39923,\n",
       " 20787,\n",
       " 246075,\n",
       " 107443,\n",
       " 169471,\n",
       " 31731,\n",
       " 27303,\n",
       " 15731,\n",
       " 11763]"
      ]
     },
     "execution_count": 136,
     "metadata": {},
     "output_type": "execute_result"
    }
   ],
   "source": [
    "model_size"
   ]
  },
  {
   "cell_type": "code",
   "execution_count": 137,
   "id": "db25e8fc-7f82-4abc-a1c2-6923f7dbec2f",
   "metadata": {},
   "outputs": [],
   "source": [
    "#model_size"
   ]
  },
  {
   "cell_type": "code",
   "execution_count": 138,
   "id": "c3cbc1c5-c8d6-40ca-babe-efc6985c245b",
   "metadata": {},
   "outputs": [],
   "source": [
    "#sparsity_values =  sparsity_values[2:]"
   ]
  },
  {
   "cell_type": "code",
   "execution_count": 139,
   "id": "9b81a711-6eed-48d9-8504-60f480929e60",
   "metadata": {},
   "outputs": [],
   "source": [
    "#model_size "
   ]
  },
  {
   "cell_type": "code",
   "execution_count": 1,
   "id": "94eeffeb-927f-400f-afd6-0059a2f4d77d",
   "metadata": {},
   "outputs": [
    {
     "ename": "NameError",
     "evalue": "name 'plt' is not defined",
     "output_type": "error",
     "traceback": [
      "\u001b[0;31m---------------------------------------------------------------------------\u001b[0m",
      "\u001b[0;31mNameError\u001b[0m                                 Traceback (most recent call last)",
      "Cell \u001b[0;32mIn[1], line 2\u001b[0m\n\u001b[1;32m      1\u001b[0m \u001b[38;5;66;03m# Plotting the sorted values\u001b[39;00m\n\u001b[0;32m----> 2\u001b[0m \u001b[43mplt\u001b[49m\u001b[38;5;241m.\u001b[39mfigure(figsize\u001b[38;5;241m=\u001b[39m(\u001b[38;5;241m10\u001b[39m, \u001b[38;5;241m6\u001b[39m))\n\u001b[1;32m      3\u001b[0m plt\u001b[38;5;241m.\u001b[39mplot(df_sorted[\u001b[38;5;124m'\u001b[39m\u001b[38;5;124mSparsity\u001b[39m\u001b[38;5;124m'\u001b[39m], df_sorted[\u001b[38;5;124m'\u001b[39m\u001b[38;5;124mModel Size\u001b[39m\u001b[38;5;124m'\u001b[39m], marker\u001b[38;5;241m=\u001b[39m\u001b[38;5;124m'\u001b[39m\u001b[38;5;124mo\u001b[39m\u001b[38;5;124m'\u001b[39m)\n\u001b[1;32m      4\u001b[0m plt\u001b[38;5;241m.\u001b[39mxlabel(\u001b[38;5;124m'\u001b[39m\u001b[38;5;124mSparsity (\u001b[39m\u001b[38;5;124m%\u001b[39m\u001b[38;5;124m)\u001b[39m\u001b[38;5;124m'\u001b[39m)\n",
      "\u001b[0;31mNameError\u001b[0m: name 'plt' is not defined"
     ]
    }
   ],
   "source": [
    "\n",
    "\n",
    "# Plotting the sorted values\n",
    "plt.figure(figsize=(10, 6))\n",
    "plt.plot(df_sorted['Sparsity'], df_sorted['Model Size'], marker='o')\n",
    "plt.xlabel('Sparsity (%)')\n",
    "plt.ylabel('Model Size (Byte)')\n",
    "plt.title('Model Size vs Sparsity')\n",
    "plt.grid(True)\n",
    "plt.savefig(\"lenet_fashionmnist_model_size_n.pdf\")\n",
    "plt.show()\n"
   ]
  },
  {
   "cell_type": "code",
   "execution_count": null,
   "id": "b5180d23-61ca-42db-b009-fb2ab4ef9b85",
   "metadata": {},
   "outputs": [],
   "source": []
  },
  {
   "cell_type": "code",
   "execution_count": 2,
   "id": "906c6efd-7172-4b13-af81-018a8958b6b1",
   "metadata": {},
   "outputs": [
    {
     "ename": "NameError",
     "evalue": "name 'plt' is not defined",
     "output_type": "error",
     "traceback": [
      "\u001b[0;31m---------------------------------------------------------------------------\u001b[0m",
      "\u001b[0;31mNameError\u001b[0m                                 Traceback (most recent call last)",
      "Cell \u001b[0;32mIn[2], line 1\u001b[0m\n\u001b[0;32m----> 1\u001b[0m \u001b[43mplt\u001b[49m\u001b[38;5;241m.\u001b[39mfigure(figsize\u001b[38;5;241m=\u001b[39m(\u001b[38;5;241m10\u001b[39m, \u001b[38;5;241m6\u001b[39m))\n\u001b[1;32m      2\u001b[0m ax1 \u001b[38;5;241m=\u001b[39m plt\u001b[38;5;241m.\u001b[39mgca()\n\u001b[1;32m      3\u001b[0m ax1\u001b[38;5;241m.\u001b[39mplot(df_sorted[\u001b[38;5;124m'\u001b[39m\u001b[38;5;124mSparsity\u001b[39m\u001b[38;5;124m'\u001b[39m], df_sorted[\u001b[38;5;124m'\u001b[39m\u001b[38;5;124mModel Size\u001b[39m\u001b[38;5;124m'\u001b[39m], marker\u001b[38;5;241m=\u001b[39m\u001b[38;5;124m'\u001b[39m\u001b[38;5;124mo\u001b[39m\u001b[38;5;124m'\u001b[39m, label\u001b[38;5;241m=\u001b[39m\u001b[38;5;124m'\u001b[39m\u001b[38;5;124mModel Memory size\u001b[39m\u001b[38;5;124m'\u001b[39m)\n",
      "\u001b[0;31mNameError\u001b[0m: name 'plt' is not defined"
     ]
    }
   ],
   "source": [
    "plt.figure(figsize=(10, 6))\n",
    "ax1 = plt.gca()\n",
    "ax1.plot(df_sorted['Sparsity'], df_sorted['Model Size'], marker='o', label='Model Memory size')\n",
    "ax1.set_xlabel('Model Size (Byte)')\n",
    "ax1.set_ylabel('Validation Accuracy')\n",
    "ax1.legend()\n",
    "ax2 = ax1.twinx()\n",
    "\n",
    "ax2.plot(df_sorted['Sparsity'], df_sorted['Val_Acc'], color='red', marker='x', label='Accuracy')\n",
    "ax2.set_ylabel('Accuracy (%)', color='red')\n",
    "for label in ax2.get_yticklabels():\n",
    "    label.set_color('red')\n",
    "# Add legend to the secondary axis\n",
    "#ax2.legend(loc='upper right')\n",
    "ax2.legend(loc='upper left')\n",
    "\n",
    "plt.title('Model Size vs Validation Accuracy')\n",
    "plt.grid(True)\n",
    "plt.savefig(\"lenet_fashionmnist_model_size_accvsssize.pdf\")\n",
    "plt.show()"
   ]
  },
  {
   "cell_type": "code",
   "execution_count": null,
   "id": "92867567-5063-4e16-9dfe-daa341892400",
   "metadata": {},
   "outputs": [],
   "source": [
    "\"\"\"loaded_data = torch.load(os.path.join(removed_strture, model_name_new))\n",
    "\n",
    "# Extract the metadata and state dict\n",
    "model_metadata = loaded_data['metadata']\n",
    "state_dict = loaded_data['state_dict']\n",
    "\n",
    "# Reconstruct the model with the correct architecture\n",
    "pruned_model = PrunedLeNet(\n",
    "    n_filters_conv1=model_metadata['n_filters_conv1'],\n",
    "    n_filters_conv2=model_metadata['n_filters_conv2'],\n",
    "    n_filters_conv3=model_metadata['n_filters_conv3']\n",
    ")\n",
    "\n",
    "# Load the state dict into the model\n",
    "pruned_model.load_state_dict(state_dict)\n",
    "\n",
    "# Don't forget to move the model to the appropriate device, if necessary\n",
    "pruned_model.to(device)\"\"\""
   ]
  }
 ],
 "metadata": {
  "kernelspec": {
   "display_name": "Python 3 (ipykernel)",
   "language": "python",
   "name": "python3"
  },
  "language_info": {
   "codemirror_mode": {
    "name": "ipython",
    "version": 3
   },
   "file_extension": ".py",
   "mimetype": "text/x-python",
   "name": "python",
   "nbconvert_exporter": "python",
   "pygments_lexer": "ipython3",
   "version": "3.10.10"
  }
 },
 "nbformat": 4,
 "nbformat_minor": 5
}
